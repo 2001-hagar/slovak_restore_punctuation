{
 "cells": [
  {
   "cell_type": "code",
   "execution_count": null,
   "id": "10b779b0",
   "metadata": {},
   "outputs": [],
   "source": [
    "#import modules\n",
    "from transformers import pipeline\n",
    "import pandas as pd\n",
    "from nltk.tokenize import sent_tokenize\n",
    "from termcolor import colored\n",
    "import gradio as gr"
   ]
  },
  {
   "cell_type": "code",
   "execution_count": null,
   "id": "f807cf90",
   "metadata": {},
   "outputs": [],
   "source": [
    "#the function which restore,correct and heighlight punctuations in the text\n",
    "def restore_punc(text):\n",
    "    sents=sent_tokenize(text) #splitting the pragraph into sents\n",
    "    new_text=\"\" #for the text with correct punctuation\n",
    "    labels=['.','!',',',':','?','-',\";\"] #the options of punctuations\n",
    "    for sent in sents:\n",
    "        sent = ''.join(ch for ch in sent if ch not in labels)#remove punctuation from the sent\n",
    "        text_word=sent.split() #split the sent to words\n",
    "        words=text_word[:] #create a copy of the list of the words \n",
    "        unmasker = pipeline('fill-mask', model='gerulata/slovakbert')#using slovakbert to pridect the correct punctuation\n",
    "        for i in range(1,len(text_word)+1):\n",
    "            text_word.insert(i,'<mask>')#to put the mask after every word in the sent\n",
    "            sent=\" \".join(text_word)#collect the words to create the set again\n",
    "            text_with_punc=unmasker(sent)#pridect the correct punc after every word\n",
    "            if text_with_punc[0]['token_str'] in labels:\n",
    "                #save the heighlighted word with corect punc\n",
    "                words[i-1]=colored(words[i-1]+text_with_punc[0]['token_str'], 'green', attrs=['reverse', 'blink'])\n",
    "            text_word=words[:]#copy the words list to text_word list to put the mask at the right position in the next iteration\n",
    "        new_text+= \" \".join(words)#collect the words with the write punc to add every sent to collect the paragraph again\n",
    "    print(f'original text:')\n",
    "    print(f'{text}')\n",
    "    print('---------------------------------------')\n",
    "    print(f'modified text:')\n",
    "    print(f'{new_text}')\n",
    "\n",
    "\n",
    "\n",
    "\n",
    "    \n",
    "\n",
    "\n"
   ]
  },
  {
   "cell_type": "code",
   "execution_count": null,
   "id": "1b5db225",
   "metadata": {},
   "outputs": [],
   "source": [
    "restore_punc(\"Keď som mal desať rokov otec mi kúpil nový bicykel? Kedy mi otec kúpil nový bicykel Keď som mal desať rokov\")  #write here the text to restore its punctuation"
   ]
  },
  {
   "cell_type": "code",
   "execution_count": null,
   "id": "11cf4240",
   "metadata": {},
   "outputs": [],
   "source": [
    "#the function which restore,correct in the text\n",
    "def restore_punc_with_interface(text):\n",
    "    sents=sent_tokenize(text) #splitting the pragraph into sents\n",
    "    new_text=\"\" #for the text with correct punctuation\n",
    "    labels=['.','!',',',':','?','-',\";\"] #the options of punctuations\n",
    "    for sent in sents:\n",
    "        sent = ''.join(ch for ch in sent if ch not in labels)#remove punctuation from the sent\n",
    "        text_word=sent.split() #split the sent to words\n",
    "        words=text_word[:] #create a copy of the list of the words \n",
    "        unmasker = pipeline('fill-mask', model='gerulata/slovakbert')#using slovakbert to pridect the correct punctuation\n",
    "        for i in range(1,len(text_word)+1):\n",
    "            text_word.insert(i,'<mask>')#to put the mask after every word in the sent\n",
    "            sent=\" \".join(text_word)#collect the words to create the set again\n",
    "            text_with_punc=unmasker(sent)#pridect the correct punc after every word\n",
    "            if text_with_punc[0]['token_str'] in labels:\n",
    "                #save the word with corect punc\n",
    "                words[i-1]=words[i-1]+text_with_punc[0]['token_str']\n",
    "            text_word=words[:]#copy the words list to text_word list to put the mask at the right position in the next iteration\n",
    "        new_text+= \" \".join(words)#collect the words with the write punc to add every sent to collect the paragraph again\n",
    "    return new_text\n"
   ]
  },
  {
   "cell_type": "code",
   "execution_count": null,
   "id": "5d589d23",
   "metadata": {},
   "outputs": [],
   "source": [
    "#create an interface with input text and output text\n",
    "interface = gr.Interface(fn=restore_punc_with_interface, inputs=\"text\", outputs=\"text\")\n",
    "interface.launch(share=True)"
   ]
  },
  {
   "cell_type": "code",
   "execution_count": null,
   "id": "c56cf25f",
   "metadata": {
    "scrolled": false
   },
   "outputs": [],
   "source": []
  },
  {
   "cell_type": "code",
   "execution_count": null,
   "id": "d6551f20",
   "metadata": {},
   "outputs": [],
   "source": []
  }
 ],
 "metadata": {
  "kernelspec": {
   "display_name": "Python 3 (ipykernel)",
   "language": "python",
   "name": "python3"
  },
  "language_info": {
   "codemirror_mode": {
    "name": "ipython",
    "version": 3
   },
   "file_extension": ".py",
   "mimetype": "text/x-python",
   "name": "python",
   "nbconvert_exporter": "python",
   "pygments_lexer": "ipython3",
   "version": "3.11.4"
  }
 },
 "nbformat": 4,
 "nbformat_minor": 5
}
